{
  "metadata": {
    "language_info": {
      "codemirror_mode": {
        "name": "python",
        "version": 3
      },
      "file_extension": ".py",
      "mimetype": "text/x-python",
      "name": "python",
      "nbconvert_exporter": "python",
      "pygments_lexer": "ipython3",
      "version": "3.8"
    },
    "kernelspec": {
      "name": "python",
      "display_name": "Python (Pyodide)",
      "language": "python"
    }
  },
  "nbformat_minor": 4,
  "nbformat": 4,
  "cells": [
    {
      "cell_type": "code",
      "source": "\nimport pandas as pd\nfrom selenium.webdriver.chrome.options import Options\nfrom webdriver_manager.chrome import ChromeDriverManager\n\nfrom selenium.webdriver.common.by import By \n\nimport time\n\nimport pandas as pd\n\nimport warnings\nwarnings.filterwarnings('ignore')\n\nfrom selenium import webdriver\n",
      "metadata": {},
      "execution_count": null,
      "outputs": []
    },
    {
      "cell_type": "code",
      "source": "opciones=Options()\nopciones.add_experimental_option('excludeSwitches', ['enable-automation'])\nopciones.add_experimental_option('useAutomationExtension', False)\n#opciones.headless=False    # si True, no aperece la ventana (headless=no visible)\nopciones.add_argument('--start-maximized')         # comienza maximizado\nopciones.add_argument('user-data-dir=selenium')    # mantiene las cookies\n#opciones.add_extension('driver_folder/adblock.crx')       # adblocker\nopciones.add_argument('--incognito')\n",
      "metadata": {},
      "execution_count": null,
      "outputs": []
    },
    {
      "cell_type": "code",
      "source": "PATH=ChromeDriverManager().install()   # instala el driver\n\ndriver=webdriver.Chrome(PATH)         # abre una pestaña de chrome\n\ndriver.get('https://mott.pe/noticias/los-10-estafadores-mas-famosos-de-la-historia/')   # Entra \n",
      "metadata": {},
      "execution_count": null,
      "outputs": []
    },
    {
      "cell_type": "code",
      "source": "nombre = [e.text.split(': ')[0] for e in driver.find_elements(By.TAG_NAME, 'h2')][:10]\n\nnombre",
      "metadata": {},
      "execution_count": null,
      "outputs": []
    },
    {
      "cell_type": "code",
      "source": "len(nombre)",
      "metadata": {},
      "execution_count": null,
      "outputs": []
    },
    {
      "cell_type": "code",
      "source": "hito = [e.text.split(': ')[-1] for e in driver.find_elements(By.TAG_NAME, 'h2')][:10]\n\nhito",
      "metadata": {},
      "execution_count": null,
      "outputs": []
    },
    {
      "cell_type": "code",
      "source": "estafadores = pd.DataFrame(columns=['nombre','hito'])",
      "metadata": {},
      "execution_count": null,
      "outputs": []
    },
    {
      "cell_type": "code",
      "source": "estafadores.nombre = nombre",
      "metadata": {},
      "execution_count": null,
      "outputs": []
    },
    {
      "cell_type": "code",
      "source": "estafadores.hito = hito",
      "metadata": {},
      "execution_count": null,
      "outputs": []
    },
    {
      "cell_type": "code",
      "source": "estafadores",
      "metadata": {},
      "execution_count": null,
      "outputs": []
    }
  ]
}