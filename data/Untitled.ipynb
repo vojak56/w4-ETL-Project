{
 "cells": [
  {
   "cell_type": "code",
   "execution_count": 1,
   "id": "48c3231e",
   "metadata": {},
   "outputs": [],
   "source": [
    "import multiprocessing as mp\n"
   ]
  },
  {
   "cell_type": "code",
   "execution_count": 2,
   "id": "db27bcb8",
   "metadata": {},
   "outputs": [],
   "source": [
    "from selenium import webdriver\n"
   ]
  },
  {
   "cell_type": "code",
   "execution_count": 3,
   "id": "060c1484",
   "metadata": {},
   "outputs": [],
   "source": [
    "import pandas as pd\n"
   ]
  },
  {
   "cell_type": "code",
   "execution_count": 4,
   "id": "1a4eb8d9",
   "metadata": {},
   "outputs": [],
   "source": [
    "from selenium.webdriver.chrome.options import Options\n"
   ]
  },
  {
   "cell_type": "code",
   "execution_count": 5,
   "id": "40805d6a",
   "metadata": {},
   "outputs": [],
   "source": [
    "from webdriver_manager.chrome import ChromeDriverManager\n"
   ]
  },
  {
   "cell_type": "code",
   "execution_count": 6,
   "id": "4d765cc0",
   "metadata": {},
   "outputs": [],
   "source": [
    "import numpy as np\n"
   ]
  },
  {
   "cell_type": "code",
   "execution_count": 7,
   "id": "b503b4c3",
   "metadata": {},
   "outputs": [],
   "source": [
    "import csv\n"
   ]
  },
  {
   "cell_type": "code",
   "execution_count": 8,
   "id": "b919d825",
   "metadata": {},
   "outputs": [],
   "source": [
    "from bs4 import BeautifulSoup as bs\n"
   ]
  },
  {
   "cell_type": "code",
   "execution_count": 9,
   "id": "ffc9b3ea",
   "metadata": {},
   "outputs": [],
   "source": [
    "from selenium.webdriver.chrome.options import Options\n"
   ]
  },
  {
   "cell_type": "code",
   "execution_count": 10,
   "id": "b9009a25",
   "metadata": {},
   "outputs": [],
   "source": [
    "import time\n"
   ]
  },
  {
   "cell_type": "code",
   "execution_count": 11,
   "id": "9ac660b3",
   "metadata": {},
   "outputs": [],
   "source": [
    "from selenium.webdriver.common.by import By\n"
   ]
  },
  {
   "cell_type": "code",
   "execution_count": 12,
   "id": "3e1cc868",
   "metadata": {},
   "outputs": [],
   "source": [
    "from selenium.webdriver.support.ui import WebDriverWait\n"
   ]
  },
  {
   "cell_type": "code",
   "execution_count": 13,
   "id": "5f418853",
   "metadata": {},
   "outputs": [],
   "source": [
    "from selenium.webdriver.support import expected_conditions as EC\n"
   ]
  },
  {
   "cell_type": "code",
   "execution_count": 14,
   "id": "66eda9ca",
   "metadata": {},
   "outputs": [],
   "source": [
    "from selenium.webdriver import ActionChains as AC\n"
   ]
  },
  {
   "cell_type": "code",
   "execution_count": 15,
   "id": "01c45d28",
   "metadata": {},
   "outputs": [],
   "source": [
    "from selenium.webdriver.common.keys import Keys\n"
   ]
  },
  {
   "cell_type": "code",
   "execution_count": 16,
   "id": "548b37a4",
   "metadata": {},
   "outputs": [],
   "source": [
    "import warnings\n"
   ]
  },
  {
   "cell_type": "code",
   "execution_count": 17,
   "id": "18bf70ab",
   "metadata": {},
   "outputs": [],
   "source": [
    "warnings.filterwarnings('ignore')\n"
   ]
  },
  {
   "cell_type": "code",
   "execution_count": 19,
   "id": "9da467fa",
   "metadata": {},
   "outputs": [],
   "source": [
    "path = '/Users/vasiliiutkin/Desktop/cause_of_deaths.csv'\n"
   ]
  },
  {
   "cell_type": "code",
   "execution_count": 20,
   "id": "992cc32f",
   "metadata": {},
   "outputs": [],
   "source": [
    "data_cause = pd.read_csv(path)\n"
   ]
  },
  {
   "cell_type": "code",
   "execution_count": 21,
   "id": "e10d0ff7",
   "metadata": {},
   "outputs": [],
   "source": [
    "from joblib import Parallel, delayed\n"
   ]
  },
  {
   "cell_type": "code",
   "execution_count": 24,
   "id": "73299413",
   "metadata": {},
   "outputs": [
    {
     "ename": "SyntaxError",
     "evalue": "EOL while scanning string literal (3418566062.py, line 1)",
     "output_type": "error",
     "traceback": [
      "\u001b[0;36m  File \u001b[0;32m\"/var/folders/pd/fkh0h7m95z5gh73cvtcfnhc00000gn/T/ipykernel_89797/3418566062.py\"\u001b[0;36m, line \u001b[0;32m1\u001b[0m\n\u001b[0;31m    url = \"http://www.geoba.se/population.php?pc=world&type=28&year=2000&st=country&asde=&page=1\\\u001b[0m\n\u001b[0m                                                                                                 ^\u001b[0m\n\u001b[0;31mSyntaxError\u001b[0m\u001b[0;31m:\u001b[0m EOL while scanning string literal\n"
     ]
    }
   ],
   "source": [
    "url = \"http://www.geoba.se/population.php?pc=world&type=28&year=2000&st=country&asde=&page=1\\"
   ]
  },
  {
   "cell_type": "code",
   "execution_count": null,
   "id": "4e1c2f80",
   "metadata": {},
   "outputs": [],
   "source": [
    "html=req.get(url).text\n",
    "soup=bs(html, 'html.parser')"
   ]
  },
  {
   "cell_type": "code",
   "execution_count": null,
   "id": "5c5baa63",
   "metadata": {},
   "outputs": [],
   "source": [
    "rows = soup.find_all(\\\"tr\\\",class_ = 'bb')\n"
   ]
  },
  {
   "cell_type": "code",
   "execution_count": null,
   "id": "3118b807",
   "metadata": {},
   "outputs": [],
   "source": []
  },
  {
   "cell_type": "code",
   "execution_count": null,
   "id": "0d2cb00d",
   "metadata": {},
   "outputs": [],
   "source": []
  }
 ],
 "metadata": {
  "kernelspec": {
   "display_name": "Python 3 (ipykernel)",
   "language": "python",
   "name": "python3"
  },
  "language_info": {
   "codemirror_mode": {
    "name": "ipython",
    "version": 3
   },
   "file_extension": ".py",
   "mimetype": "text/x-python",
   "name": "python",
   "nbconvert_exporter": "python",
   "pygments_lexer": "ipython3",
   "version": "3.9.13"
  }
 },
 "nbformat": 4,
 "nbformat_minor": 5
}
